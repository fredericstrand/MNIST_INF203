{
 "cells": [
  {
   "cell_type": "markdown",
   "metadata": {},
   "source": [
    "# Neural network for the MNIST dataset\n",
    "\n",
    "### Importing and inspecting the data"
   ]
  },
  {
   "cell_type": "code",
   "execution_count": 2,
   "metadata": {},
   "outputs": [],
   "source": [
    "# Importing libraries\n",
    "import numpy as np\n",
    "import matplotlib.pyplot as plt\n",
    "from sklearn import datasets\n",
    "from sklearn.preprocessing import OneHotEncoder"
   ]
  },
  {
   "cell_type": "code",
   "execution_count": 3,
   "metadata": {},
   "outputs": [
    {
     "data": {
      "image/png": "[encoded data removed]",
      "text/plain": [
       "<Figure size 1000x300 with 4 Axes>"
      ]
     },
     "metadata": {},
     "output_type": "display_data"
    }
   ],
   "source": [
    "# Loading data from sklearn\n",
    "digits = datasets.load_digits()\n",
    "\n",
    "# Inspecting four first images\n",
    "_, axes = plt.subplots(nrows=1, ncols=4, figsize=(10, 3))\n",
    "for ax, image, label in zip(axes, digits.images, digits.target):\n",
    "    ax.set_axis_off()\n",
    "    ax.imshow(image, cmap=plt.cm.gray_r, interpolation=\"nearest\")\n",
    "    ax.set_title(f\"Image: %i\" % label)"
   ]
  },
  {
   "cell_type": "markdown",
   "metadata": {},
   "source": [
    "### Explore the data\n",
    "\n",
    "Just checking if the data is relatively evenly distrubuted, because this will effect the performance"
   ]
  },
  {
   "cell_type": "code",
   "execution_count": 4,
   "metadata": {},
   "outputs": [
    {
     "data": {
      "image/png": "[encoded data removed]",
      "text/plain": [
       "<Figure size 640x480 with 1 Axes>"
      ]
     },
     "metadata": {},
     "output_type": "display_data"
    }
   ],
   "source": [
    "# Plotting the accurances of different values\n",
    "label_counts = np.bincount(digits.target)\n",
    "\n",
    "plt.bar(range(len(label_counts)), label_counts)\n",
    "plt.show()"
   ]
  },
  {
   "cell_type": "markdown",
   "metadata": {},
   "source": [
    "### Split into training and test sets"
   ]
  },
  {
   "cell_type": "code",
   "execution_count": 5,
   "metadata": {},
   "outputs": [
    {
     "data": {
      "text/plain": [
       "((1437, 64), (1437,), (360, 64), (360,))"
      ]
     },
     "execution_count": 5,
     "metadata": {},
     "output_type": "execute_result"
    }
   ],
   "source": [
    "# Get the data and targets\n",
    "X = digits.data\n",
    "y = digits.target\n",
    "\n",
    "# Shuffle the data \n",
    "np.random.seed(42)\n",
    "indices = np.random.permutation(len(X))\n",
    "\n",
    "# Define the split ratio for the training and test sets\n",
    "split_ratio = 0.8\n",
    "split_index = int(len(X) * split_ratio)\n",
    "\n",
    "# Split the indices into training and testing\n",
    "X_train, y_train = X[indices[:split_index]], y[indices[:split_index]]\n",
    "X_test, y_test = X[indices[split_index:]], y[indices[split_index:]]\n",
    "\n",
    "X_train.shape, y_train.shape, X_test.shape, y_test.shape"
   ]
  },
  {
   "cell_type": "markdown",
   "metadata": {},
   "source": [
    "#### Reshape the images to fit the model"
   ]
  },
  {
   "cell_type": "code",
   "execution_count": 6,
   "metadata": {},
   "outputs": [
    {
     "name": "stdout",
     "output_type": "stream",
     "text": [
      "(1437, 64)\n",
      "(1437, 10)\n"
     ]
    }
   ],
   "source": [
    "X_train = X_train / 16.0\n",
    "\n",
    "encoder = OneHotEncoder(sparse_output=False)\n",
    "y_train = encoder.fit_transform(y_train.reshape(-1, 1))\n",
    "\n",
    "print(X_train.shape)\n",
    "print(y_train.shape)"
   ]
  },
  {
   "cell_type": "markdown",
   "metadata": {},
   "source": [
    "## Building the forward pass for the model\n",
    "\n",
    "First we need to make the forward pass for the neural network. The forward pass consists of:\n",
    "\n",
    "**Weighted sum**\n",
    "\n",
    "$$\n",
    "Z^{(l)} = A^{(l-1)} W^{(l)} + b^{(l)}\n",
    "$$\n",
    "\n",
    "This gives a linear transformation of the input data by combining inputs and weights. The activation function is then applied to introduce non-linearity\n",
    "\n",
    "**Activation functions**\n",
    "\n",
    "* **ReLU activation function**\n",
    "$$\n",
    "f(z) = \\text{ReLU}(z) = \\max(0, z)\n",
    "$$\n",
    "\n",
    "* **Softmax**\n",
    "    Softmax converts raw prediction scores (logits) into probabilities. It is used in the output layer of multi-class classification problems like MNIST. It ensures    that the sum of probabilities across all classes is 1.\n",
    "$$\n",
    "\\sigma(z)_i = \\frac{e^{z_i}}{\\sum_{j=1}^{n} e^{z_j}}\n",
    "$$"
   ]
  },
  {
   "cell_type": "code",
   "execution_count": 7,
   "metadata": {},
   "outputs": [],
   "source": [
    "def relu(x):\n",
    "    return np.maximum(0, x)\n",
    "\n",
    "def relu_derivative(x): \n",
    "    return np.where(x > 0, 1, 0)\n",
    "\n",
    "def softmax(x):\n",
    "    exp_x = np.exp(x - np.max(x, axis=1, keepdims=True))\n",
    "    return exp_x / np.sum(exp_x, axis=1, keepdims=True)\n",
    "\n",
    "def cross_entropy_loss(y_true, y_pred):\n",
    "    y_pred = np.clip(y_pred, 1e-12, 1. - 1e-12)\n",
    "    return -np.sum(y_true * np.log(y_pred)) / y_true.shape[0]"
   ]
  },
  {
   "cell_type": "markdown",
   "metadata": {},
   "source": [
    "## Building the backpropegation\n",
    "\n",
    "The **backpropagation** process in a neural network is used to update the weights and biases based on the error (loss) computed during the forward pass. It works by calculating the gradients of the loss function with respect to the weights and propagating the error backward through the network using the chain rule of differentiation.\n",
    "\n",
    "##### Step 1: Categorical Cross-Entropy Loss\n",
    "\n",
    "For the backpropagation process, we first need to compute the error using a loss function. In the case of classification tasks, we typically use **categorical cross-entropy loss**:\n",
    "\n",
    "$$\n",
    "\\mathcal{L}(\\hat{y}, y) = - \\sum_{i=1}^{C} y_i \\log(\\hat{y}_i)\n",
    "$$\n",
    "\n",
    "Where:\n",
    "- \\( y_i \\) is the true label (one-hot encoded vector),\n",
    "- \\( \\hat{y}_i \\) is the predicted probability for class \\( i \\),\n",
    "- \\( C \\) is the number of classes.\n",
    "\n",
    "This loss measures how far the predicted probability distribution \\( \\hat{y} \\) is from the true label \\( y \\).\n",
    "\n",
    "\n",
    "##### Step 2: Gradient of the Loss with Respect to Output\n",
    "\n",
    "Once the loss is computed, we calculate the gradient of the loss with respect to the output of the network (i.e., the softmax probabilities \\( \\hat{y} \\)). The gradient for **categorical cross-entropy** is:\n",
    "\n",
    "$$\n",
    "\\frac{\\partial \\mathcal{L}}{\\partial \\hat{y}_i} = \\hat{y}_i - y_i\n",
    "$$\n",
    "\n",
    "This gradient tells us how much the predicted probability \\( \\hat{y}_i \\) deviates from the true label \\( y_i \\).\n",
    "\n",
    "\n",
    "##### Step 3: Backpropagation to Output Layer\n",
    "\n",
    "For the **output layer**, the backpropagation process begins by computing the gradient of the loss with respect to the weighted sum \\( Z^{(L)} \\) at the output layer. Using the chain rule:\n",
    "\n",
    "$$\n",
    "\\frac{\\partial \\mathcal{L}}{\\partial Z^{(L)}} = \\frac{\\partial \\mathcal{L}}{\\partial \\hat{y}} \\cdot \\frac{\\partial \\hat{y}}{\\partial Z^{(L)}}\n",
    "$$\n",
    "\n",
    "Since \\( \\frac{\\partial \\hat{y}}{\\partial Z^{(L)}} \\) is simplified by the properties of softmax, this results in:\n",
    "\n",
    "$$\n",
    "\\frac{\\partial \\mathcal{L}}{\\partial Z^{(L)}} = \\hat{y} - y\n",
    "$$\n",
    "\n",
    "This is the error signal we propagate back through the network.\n",
    "\n",
    "\n",
    "##### Step 4: Backpropagation to Hidden Layers\n",
    "\n",
    "For each hidden layer \\( l \\), we propagate the error backward using the chain rule. The gradient of the loss with respect to the weights and biases in layer \\( l \\) is calculated as follows:\n",
    "\n",
    "**Gradient of Weights:**\n",
    "$$\n",
    "\\frac{\\partial \\mathcal{L}}{\\partial W^{(l)}} = A^{(l-1)T} \\cdot \\delta^{(l)}\n",
    "$$\n",
    "\n",
    "Where:\n",
    "- \\( A^{(l-1)} \\) is the activation from the previous layer (or input data for the first layer),\n",
    "- \\( \\delta^{(l)} \\) is the error signal propagated from the next layer.\n",
    "\n",
    "**Gradient of Biases:**\n",
    "$$\n",
    "\\frac{\\partial \\mathcal{L}}{\\partial b^{(l)}} = \\sum \\delta^{(l)}\n",
    "$$\n",
    "\n",
    "Where:\n",
    "- \\( \\sum \\delta^{(l)} \\) is the sum of the error signal over all the samples in the batch.\n",
    "\n",
    "**Gradient of Input:**\n",
    "$$\n",
    "\\delta^{(l-1)} = \\delta^{(l)} \\cdot W^{(l)T}\n",
    "$$\n",
    "\n",
    "This step propagates the error backward to the previous layer so that its weights and biases can also be updated.\n",
    "\n",
    "\n",
    "##### Step 5: Weight Update Rule\n",
    "\n",
    "Finally, we update the weights and biases using **gradient descent**. The update rule for the weights is:\n",
    "\n",
    "$$\n",
    "W^{(l)} = W^{(l)} - \\alpha \\cdot \\frac{\\partial \\mathcal{L}}{\\partial W^{(l)}}\n",
    "$$\n",
    "\n",
    "And for the biases:\n",
    "\n",
    "$$\n",
    "b^{(l)} = b^{(l)} - \\alpha \\cdot \\frac{\\partial \\mathcal{L}}{\\partial b^{(l)}}\n",
    "$$\n",
    "\n",
    "Where:\n",
    "- \\( \\alpha \\) is the learning rate,\n",
    "- \\( \\frac{\\partial \\mathcal{L}}{\\partial W^{(l)}} \\) and \\( \\frac{\\partial \\mathcal{L}}{\\partial b^{(l)}} \\) are the gradients of the loss with respect to the weights and biases, respectively.\n"
   ]
  },
  {
   "cell_type": "code",
   "execution_count": 8,
   "metadata": {},
   "outputs": [],
   "source": [
    "def cross_entropy_loss(y_true, y_pred):\n",
    "    y_pred = np.clip(y_pred, 1e-12, 1. - 1e-12)\n",
    "    return -np.sum(y_true * np.log(y_pred)) / y_true.shape[0]\n",
    "\n",
    "def relu_derivative(x):\n",
    "    return np.where(x > 0, 1, 0)"
   ]
  },
  {
   "cell_type": "markdown",
   "metadata": {},
   "source": [
    "### Creating the Adam optimizer\n",
    "\n",
    "This optimizer is not really neccecary for this project, but I am using it to show how it works for future reference.\n",
    "\n",
    "The Adam (Adaptive Moment Estimation) optimizer combines two optimization methods: Momentum and RMSProp.\n",
    "\n",
    "* Momentum: It helps accelerate gradient descent by maintaining a moving average of the gradients, preventing oscillations.\n",
    "* RMSProp: It scales learning rates for each parameter by dividing the gradients by a running average of the squared gradients, ensuring smoother updates.\n",
    "\n",
    "Adam uses two moving averages:\n",
    "1. The first moment (mean of gradients).\n",
    "2. The second moment (uncentered variance of gradients).\n",
    "\n",
    "These moments are corrected and used to update parameters, providing a balance between speed and precision. Adam generally works well with minimal hyperparameter tuning.\n"
   ]
  },
  {
   "cell_type": "code",
   "execution_count": 9,
   "metadata": {},
   "outputs": [],
   "source": [
    "class AdamOptimizer:\n",
    "    def __init__(self, learning_rate=0.001, beta1=0.9, beta2=0.999, epsilon=1e-8):\n",
    "        self.learning_rate = learning_rate\n",
    "        self.beta1 = beta1\n",
    "        self.beta2 = beta2\n",
    "        self.epsilon = epsilon\n",
    "        self.m = None\n",
    "        self.v = None\n",
    "        self.t = 0\n",
    "\n",
    "    def update(self, weights, grads):\n",
    "        if self.m is None:\n",
    "            self.m = np.zeros_like(weights)\n",
    "            self.v = np.zeros_like(weights)\n",
    "        \n",
    "        self.t += 1\n",
    "        self.m = self.beta1 * self.m + (1 - self.beta1) * grads\n",
    "        self.v = self.beta2 * self.v + (1 - self.beta2) * (grads ** 2)\n",
    "        \n",
    "        m_hat = self.m / (1 - self.beta1 ** self.t)\n",
    "        v_hat = self.v / (1 - self.beta2 ** self.t)\n",
    "        \n",
    "        weights -= self.learning_rate * m_hat / (np.sqrt(v_hat) + self.epsilon)\n",
    "        return weights\n"
   ]
  },
  {
   "cell_type": "markdown",
   "metadata": {},
   "source": [
    "## Creating the Layers"
   ]
  },
  {
   "cell_type": "code",
   "execution_count": 10,
   "metadata": {},
   "outputs": [],
   "source": [
    "class Layer:\n",
    "    def __init__(self, input_size, output_size):\n",
    "        # Initialize weights with small random values and biases to 0\n",
    "        self._weights = np.random.randn(input_size, output_size) * 0.1\n",
    "        self._bias = np.zeros((1, output_size))\n",
    "        self.adam_weights = AdamOptimizer(learning_rate)\n",
    "        self.adam_bias = AdamOptimizer(learning_rate)\n",
    "\n",
    "    def forward(self, inputs):\n",
    "        # Calculate the weighted sum of inputs + biases\n",
    "        self._inputs = inputs\n",
    "        self.output = np.dot(inputs, self._weights) + self._bias\n",
    "\n",
    "    def backward(self, d_output, learning_rate):\n",
    "        # Gradient of weights and biases based on the error signal (d_output)\n",
    "        d_weights = np.dot(self._inputs.T, d_output)\n",
    "        d_bias = np.sum(d_output, axis=0, keepdims=True)\n",
    "\n",
    "        # Gradient of the input to pass to the previous layer\n",
    "        d_inputs = np.dot(d_output, self._weights.T)\n",
    "\n",
    "        # Update weights and biases\n",
    "        self._weights = self.adam_weights.update(self._weights, d_weights)\n",
    "        self._bias = self.adam_bias.update(self._bias, d_bias)\n",
    "\n",
    "        return d_inputs\n",
    "\n",
    "class NeuralNetwork:\n",
    "    def __init__(self, input_size, hidden_size, output_size):\n",
    "        # Initialize two layers: one hidden and one output\n",
    "        self.layer1 = Layer(input_size, hidden_size)\n",
    "        self.layer2 = Layer(hidden_size, output_size)\n",
    "\n",
    "    def forward(self, X):\n",
    "        # Forward pass through the first layer with ReLU activation\n",
    "        self.layer1.forward(X)\n",
    "        self.layer1_output = relu(self.layer1.output)\n",
    "\n",
    "        # Forward pass through the second layer with Softmax activation\n",
    "        self.layer2.forward(self.layer1_output)\n",
    "        self.output = softmax(self.layer2.output)\n",
    "\n",
    "    def backward(self, X, y, learning_rate):\n",
    "        # Backward pass using Cross-Entropy Loss\n",
    "        loss = cross_entropy_loss(y, self.output)\n",
    "        d_output = self.output - y\n",
    "\n",
    "        # Backward pass through second layer\n",
    "        d_hidden = self.layer2.backward(d_output, learning_rate)\n",
    "\n",
    "        # Backward pass through the first layer with ReLU activation\n",
    "        d_inputs = self.layer1.backward(d_hidden * relu_derivative(self.layer1_output), learning_rate)\n",
    "\n",
    "    def train(self, X_train, y_train, epochs, learning_rate):\n",
    "        for epoch in range(epochs):\n",
    "            self.forward(X_train)\n",
    "            self.backward(X_train, y_train, learning_rate)\n",
    "\n",
    "            # Print the loss every 100 epochs\n",
    "            if epoch % 100 == 0:\n",
    "                loss = cross_entropy_loss(y_train, self.output)\n",
    "                print(f\"Epoch {epoch}, Loss: {loss}\")\n",
    "\n",
    "    def predict(self, X):\n",
    "        # Forward pass for predictions\n",
    "        self.forward(X)\n",
    "        return np.argmax(self.output, axis=1)"
   ]
  },
  {
   "cell_type": "markdown",
   "metadata": {},
   "source": [
    "### Adding some Data Augmentation for better generalization"
   ]
  },
  {
   "cell_type": "code",
   "execution_count": 11,
   "metadata": {},
   "outputs": [],
   "source": [
    "from scipy.ndimage import rotate\n",
    "\n",
    "def random_rotate_image(image):\n",
    "    angle = np.random.uniform(-30, 30)\n",
    "    return rotate(image, angle, reshape=False)\n",
    "\n",
    "# Augmenting data by rotating images by 30 degrees\n",
    "X_train = np.concatenate([X_train, random_rotate_image(X_train)], axis=0)\n",
    "y_train = np.concatenate([y_train, y_train], axis=0)"
   ]
  },
  {
   "cell_type": "markdown",
   "metadata": {},
   "source": [
    "### Test the model"
   ]
  },
  {
   "cell_type": "code",
   "execution_count": 12,
   "metadata": {},
   "outputs": [
    {
     "name": "stdout",
     "output_type": "stream",
     "text": [
      "Epoch 0, Loss: 2.3285834688243106\n",
      "Epoch 100, Loss: 2.050719854915312\n",
      "Epoch 200, Loss: 1.7886401895146478\n",
      "Epoch 300, Loss: 1.5955631348537327\n",
      "Epoch 400, Loss: 1.4740685362881871\n",
      "Epoch 500, Loss: 1.3944352251203571\n",
      "Epoch 600, Loss: 1.3376524025385699\n",
      "Epoch 700, Loss: 1.2960580614010901\n",
      "Epoch 800, Loss: 1.2639968315814714\n",
      "Epoch 900, Loss: 1.2381983451293237\n"
     ]
    }
   ],
   "source": [
    "# Hyperparameters\n",
    "input_size = 64\n",
    "hidden_size = 256\n",
    "output_size = 10\n",
    "epochs = 1000\n",
    "learning_rate = 0.0001\n",
    "\n",
    "# Initialize the neural network\n",
    "nn = NeuralNetwork(input_size, hidden_size, output_size)\n",
    "\n",
    "# Train the neural network\n",
    "nn.train(X_train, y_train, epochs, learning_rate)\n"
   ]
  },
  {
   "cell_type": "markdown",
   "metadata": {},
   "source": [
    "**I played around with the parameters and found out:**\n",
    "* If I multiply the learning rate by ten the model will overfit and perform worse on the test set\n",
    "* Data Augmentation will increase the loss by quite a lot, but still give approximately the same accuracy. This means that the model generalizes better\n",
    "\n",
    "### To check if the neural network actually performs well we need to check it on the test set"
   ]
  },
  {
   "cell_type": "code",
   "execution_count": 13,
   "metadata": {},
   "outputs": [
    {
     "name": "stdout",
     "output_type": "stream",
     "text": [
      "Test Accuracy: 95.00%\n"
     ]
    }
   ],
   "source": [
    "# Predict on the test set\n",
    "y_pred = nn.predict(X_test)\n",
    "\n",
    "y_test_labels = y_test\n",
    "\n",
    "# Calculate accuracy\n",
    "accuracy = np.mean(y_pred == y_test_labels)\n",
    "print(f\"Test Accuracy: {accuracy * 100:.2f}%\")\n"
   ]
  },
  {
   "cell_type": "markdown",
   "metadata": {},
   "source": [
    "### Exploring the predictions"
   ]
  },
  {
   "cell_type": "code",
   "execution_count": 14,
   "metadata": {},
   "outputs": [
    {
     "data": {
      "image/png": "[encoded data removed]",
      "text/plain": [
       "<Figure size 1000x300 with 4 Axes>"
      ]
     },
     "metadata": {},
     "output_type": "display_data"
    }
   ],
   "source": [
    "# Inspecting four first test images and their predictions\n",
    "_, axes = plt.subplots(nrows=1, ncols=4, figsize=(10, 3))\n",
    "for i, (ax, image, pred_label) in enumerate(zip(axes, X_test[:4], y_pred[:4])):\n",
    "    ax.set_axis_off()\n",
    "    ax.imshow(image.reshape(8, 8), cmap=plt.cm.gray_r, interpolation=\"nearest\")\n",
    "    ax.set_title(f\"Pred: {pred_label}\\nTrue: {y_test_labels[i]}\")\n",
    "\n",
    "plt.show()"
   ]
  },
  {
   "cell_type": "code",
   "execution_count": 15,
   "metadata": {},
   "outputs": [
    {
     "data": {
      "text/plain": [
       "(18, 360)"
      ]
     },
     "execution_count": 15,
     "metadata": {},
     "output_type": "execute_result"
    }
   ],
   "source": [
    "# Check how many wrong predictions\n",
    "wrong_predictions = np.where(y_pred != y_test_labels)[0]\n",
    "\n",
    "len(wrong_predictions), len(X_test)"
   ]
  },
  {
   "cell_type": "code",
   "execution_count": 16,
   "metadata": {},
   "outputs": [
    {
     "data": {
      "image/png": "[encoded data removed]",
      "text/plain": [
       "<Figure size 1000x300 with 4 Axes>"
      ]
     },
     "metadata": {},
     "output_type": "display_data"
    }
   ],
   "source": [
    "# Inspect the first 4 wrong predictions\n",
    "_, axes = plt.subplots(nrows=1, ncols=4, figsize=(10, 3))\n",
    "for i, ax in enumerate(axes):\n",
    "    wrong_idx = wrong_predictions[i]\n",
    "    ax.set_axis_off()\n",
    "    ax.imshow(X_test[wrong_idx].reshape(8, 8), cmap=plt.cm.gray_r, interpolation=\"nearest\")\n",
    "    ax.set_title(f\"Pred: {y_pred[wrong_idx]}\\nTrue: {y_test_labels[wrong_idx]}\")\n",
    "\n",
    "plt.show()\n"
   ]
  },
  {
   "cell_type": "markdown",
   "metadata": {},
   "source": [
    "#### I want to check what numbers the models is most likely to predict wrong with the confusion matrix"
   ]
  },
  {
   "cell_type": "code",
   "execution_count": 17,
   "metadata": {},
   "outputs": [
    {
     "data": {
      "image/png": "[encoded data removed]",
      "text/plain": [
       "<Figure size 640x480 with 2 Axes>"
      ]
     },
     "metadata": {},
     "output_type": "display_data"
    }
   ],
   "source": [
    "from sklearn import metrics\n",
    "\n",
    "disp = metrics.ConfusionMatrixDisplay.from_predictions(y_test, y_pred)\n",
    "disp.figure_.suptitle(\"Confusion Matrix\")\n",
    "plt.show()"
   ]
  },
  {
   "cell_type": "code",
   "execution_count": null,
   "metadata": {},
   "outputs": [],
   "source": []
  },
  {
   "cell_type": "code",
   "execution_count": null,
   "metadata": {},
   "outputs": [],
   "source": []
  }
 ],
 "metadata": {
  "kernelspec": {
   "display_name": "inf201env",
   "language": "python",
   "name": "python3"
  },
  "language_info": {
   "codemirror_mode": {
    "name": "ipython",
    "version": 3
   },
   "file_extension": ".py",
   "mimetype": "text/x-python",
   "name": "python",
   "nbconvert_exporter": "python",
   "pygments_lexer": "ipython3",
   "version": "3.11.5"
  }
 },
 "nbformat": 4,
 "nbformat_minor": 2
}
